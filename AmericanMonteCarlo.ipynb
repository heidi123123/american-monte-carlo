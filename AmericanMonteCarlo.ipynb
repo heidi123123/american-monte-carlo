{
 "cells": [
  {
   "cell_type": "markdown",
   "id": "16b18eb6",
   "metadata": {},
   "source": [
    "## American Monte Carlo Demo"
   ]
  },
  {
   "cell_type": "markdown",
   "id": "3f0ac342",
   "metadata": {},
   "source": [
    "Pupose: American Monte Carlo (a.k.a. Least Squares Monte Carlo or Longstaff-Schwartz Monte Carlo) demonstration on equity options. The following option types are supported:\n",
    "\n",
    "| Exercise Style | Option Type | Barrier Type | Supported? |\n",
    "|----------------|-------------|--------------|------------|\n",
    "| European       | Call / Put  | Down-and-In  | Yes        |\n",
    "| European       | Call / Put  | Up-and-In    | Yes        |\n",
    "| American       | Call / Put  | Down-and-In  | Yes        |\n",
    "| American       | Call / Put  | Up-and-In    | Yes        |\n",
    "| Bermudan       | Call / Put  | Down-and-In  | No         |\n",
    "| Bermudan       | Call / Put  | Up-and-In    | No         |\n",
    "| European       | Call / Put  | None         | Yes        |\n",
    "| American       | Call / Put  | None         | Yes        |\n",
    "| Bermudan       | Call / Put  | None         | Yes        |\n",
    "| Any            | Call / Put  | Knock-Out    | No         |\n",
    "\n",
    "Note that Down-and-In barriers are supported for `barrier_level` $< S_0$. Barrier levels above initial stock price $S_0$ will be converted to Up-and-Out barriers."
   ]
  },
  {
   "cell_type": "markdown",
   "id": "3e5cae94",
   "metadata": {},
   "source": [
    "Option prices calculated with American Monte Carlo algorithm can be compared to QuantLib pricing engine."
   ]
  },
  {
   "cell_type": "code",
   "execution_count": null,
   "id": "8cab0941",
   "metadata": {},
   "outputs": [],
   "source": []
  }
 ],
 "metadata": {
  "kernelspec": {
   "display_name": "Python 3 (ipykernel)",
   "language": "python",
   "name": "python3"
  },
  "language_info": {
   "codemirror_mode": {
    "name": "ipython",
    "version": 3
   },
   "file_extension": ".py",
   "mimetype": "text/x-python",
   "name": "python",
   "nbconvert_exporter": "python",
   "pygments_lexer": "ipython3",
   "version": "3.11.5"
  }
 },
 "nbformat": 4,
 "nbformat_minor": 5
}
